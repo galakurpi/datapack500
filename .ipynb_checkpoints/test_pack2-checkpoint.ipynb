{
 "cells": [
  {
   "cell_type": "code",
   "execution_count": 1,
   "id": "8b136c54-09fa-41b4-8f1b-b2648c5c8133",
   "metadata": {},
   "outputs": [
    {
     "name": "stderr",
     "output_type": "stream",
     "text": [
      "WARNING: Ignoring invalid distribution -atplotlib (c:\\users\\gal\\anaconda3\\lib\\site-packages)\n",
      "WARNING: Ignoring invalid distribution -atplotlib (c:\\users\\gal\\anaconda3\\lib\\site-packages)\n",
      "ERROR: Could not find a version that satisfies the requirement datapackmutriku (from versions: none)\n",
      "ERROR: No matching distribution found for datapackmutriku\n",
      "WARNING: Ignoring invalid distribution -atplotlib (c:\\users\\gal\\anaconda3\\lib\\site-packages)\n",
      "WARNING: Ignoring invalid distribution -atplotlib (c:\\users\\gal\\anaconda3\\lib\\site-packages)\n",
      "WARNING: Ignoring invalid distribution -atplotlib (c:\\users\\gal\\anaconda3\\lib\\site-packages)\n",
      "\n",
      "[notice] A new release of pip available: 22.2.1 -> 22.3.1\n",
      "[notice] To update, run: python.exe -m pip install --upgrade pip\n"
     ]
    }
   ],
   "source": [
    "!pip3 install datapackmutriku"
   ]
  },
  {
   "cell_type": "code",
   "execution_count": 6,
   "id": "15be2f06-2c3e-4294-957a-c9afbdde1b86",
   "metadata": {},
   "outputs": [
    {
     "ename": "ImportError",
     "evalue": "cannot import name 'discretize_ew' from 'datapack' (C:\\Users\\gal\\anaconda3\\lib\\site-packages\\datapack\\__init__.py)",
     "output_type": "error",
     "traceback": [
      "\u001b[1;31m---------------------------------------------------------------------------\u001b[0m",
      "\u001b[1;31mImportError\u001b[0m                               Traceback (most recent call last)",
      "\u001b[1;32m~\\AppData\\Local\\Temp/ipykernel_11712/4097417829.py\u001b[0m in \u001b[0;36m<module>\u001b[1;34m\u001b[0m\n\u001b[1;32m----> 1\u001b[1;33m \u001b[1;32mfrom\u001b[0m \u001b[0mdatapack\u001b[0m \u001b[1;32mimport\u001b[0m \u001b[0mdiscretize_ew\u001b[0m\u001b[1;33m\u001b[0m\u001b[1;33m\u001b[0m\u001b[0m\n\u001b[0m",
      "\u001b[1;31mImportError\u001b[0m: cannot import name 'discretize_ew' from 'datapack' (C:\\Users\\gal\\anaconda3\\lib\\site-packages\\datapack\\__init__.py)"
     ]
    }
   ],
   "source": [
    "from datapack import discretize_ew"
   ]
  },
  {
   "cell_type": "code",
   "execution_count": 7,
   "id": "cb65848e-be52-4f35-89a2-de0d7199004a",
   "metadata": {},
   "outputs": [
    {
     "name": "stdout",
     "output_type": "stream",
     "text": [
      "Name: datapack\n",
      "Version: 0.0\n",
      "Summary: Data Packages for Science\n",
      "Home-page: https://github.com/scikit-image/datapack\n",
      "Author: Stéfan van der Walt\n",
      "Author-email: stefanv@berkeley.edu\n",
      "License: UNKNOWN\n",
      "Location: c:\\users\\gal\\anaconda3\\lib\\site-packages\n",
      "Requires: \n",
      "Required-by: \n",
      "Note: you may need to restart the kernel to use updated packages.\n"
     ]
    },
    {
     "name": "stderr",
     "output_type": "stream",
     "text": [
      "WARNING: Ignoring invalid distribution -atplotlib (c:\\users\\gal\\anaconda3\\lib\\site-packages)\n"
     ]
    }
   ],
   "source": [
    "pip show datapack\n"
   ]
  },
  {
   "cell_type": "code",
   "execution_count": null,
   "id": "b4932a1f-76b3-4f2f-bca5-941843307ddf",
   "metadata": {},
   "outputs": [],
   "source": []
  }
 ],
 "metadata": {
  "kernelspec": {
   "display_name": "Python 3 (ipykernel)",
   "language": "python",
   "name": "python3"
  },
  "language_info": {
   "codemirror_mode": {
    "name": "ipython",
    "version": 3
   },
   "file_extension": ".py",
   "mimetype": "text/x-python",
   "name": "python",
   "nbconvert_exporter": "python",
   "pygments_lexer": "ipython3",
   "version": "3.9.7"
  }
 },
 "nbformat": 4,
 "nbformat_minor": 5
}
